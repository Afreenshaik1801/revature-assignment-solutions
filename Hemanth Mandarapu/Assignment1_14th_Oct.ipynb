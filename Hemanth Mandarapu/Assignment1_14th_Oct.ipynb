{
 "cells": [
  {
   "cell_type": "code",
   "execution_count": 1,
   "id": "e9395a41",
   "metadata": {},
   "outputs": [
    {
     "name": "stdout",
     "output_type": "stream",
     "text": [
      "120\n"
     ]
    }
   ],
   "source": [
    "#1.Calculate the product of elements in a list using a for loop\n",
    "f=[1,2,3,4 ,5]\n",
    "prod=1\n",
    "for x in range(len(f)):\n",
    "    prod*=f[x]\n",
    "print(prod)"
   ]
  },
  {
   "cell_type": "code",
   "execution_count": 4,
   "id": "7438705c",
   "metadata": {},
   "outputs": [
    {
     "name": "stdout",
     "output_type": "stream",
     "text": [
      "10 9 8 7 6 5 4 3 2 1 "
     ]
    }
   ],
   "source": [
    "#2 Print numbers in reverse from 10 to 1 using a for loop\n",
    "\n",
    "for i in range(10,0,-1):\n",
    "  print(i, end=\" \")"
   ]
  },
  {
   "cell_type": "code",
   "execution_count": 6,
   "id": "45a5a298",
   "metadata": {},
   "outputs": [
    {
     "name": "stdout",
     "output_type": "stream",
     "text": [
      "101\n"
     ]
    }
   ],
   "source": [
    "#3.Find the largest number in a list using a for loop [3, 9, 1, 6, 2, 8]\n",
    "f=[24 , 3, 9, 1, 6, 2, 8, 11, 101]\n",
    "largest=0\n",
    "for x in f:\n",
    "    for y in f:\n",
    "        if x>largest:\n",
    "            largest=x\n",
    "print(largest)"
   ]
  },
  {
   "cell_type": "code",
   "execution_count": 7,
   "id": "0c46acfa",
   "metadata": {},
   "outputs": [
    {
     "name": "stdout",
     "output_type": "stream",
     "text": [
      "H\n",
      "M\n"
     ]
    }
   ],
   "source": [
    "#4 .Print all uppercase letters in a string using a for loop: \"Hello World\"\n",
    "s=\"Hemanth Mandarapu\"\n",
    "for char in s:\n",
    "    if char.isupper():\n",
    "        print(char)"
   ]
  },
  {
   "cell_type": "code",
   "execution_count": 8,
   "id": "f0f709bf",
   "metadata": {},
   "outputs": [
    {
     "name": "stdout",
     "output_type": "stream",
     "text": [
      "2\n"
     ]
    }
   ],
   "source": [
    "#5.Find the first occurrence of a number in a list using a while loop:\n",
    "l=[1,2,3,4 ,5,1,3]\n",
    "idx=0\n",
    "target=3\n",
    "while idx < len(l):\n",
    "    if l[idx]==target:\n",
    "        print(idx)\n",
    "        break\n",
    "    idx+=1"
   ]
  },
  {
   "cell_type": "code",
   "execution_count": 11,
   "id": "fc9f0340",
   "metadata": {},
   "outputs": [
    {
     "name": "stdout",
     "output_type": "stream",
     "text": [
      "1 4 "
     ]
    }
   ],
   "source": [
    "#6.Print numbers in a list until a negative number is encountered using a while loop: [1, 4 , 6, 8, 10, -3, 5, 7]\n",
    "l=[1, 4 , -2, 6, 8, 10 , -3, 5, 7]\n",
    "idx=0\n",
    "while idx < len(l):\n",
    "    if(l[idx]>0 ):\n",
    "        print(l[idx], end=\" \")\n",
    "    else:\n",
    "        break\n",
    "    idx+=1"
   ]
  },
  {
   "cell_type": "code",
   "execution_count": 13,
   "id": "8f503a13",
   "metadata": {},
   "outputs": [
    {
     "name": "stdout",
     "output_type": "stream",
     "text": [
      "1 3 5 7 9 "
     ]
    }
   ],
   "source": [
    "#7.Print numbers from 1to 10. If a number is even, break the loop using a for loop and else clause:\n",
    "for x in range(1,11):\n",
    "    if(x%2==0 ):\n",
    "        pass\n",
    "    else:\n",
    "        print(x, end=\" \")"
   ]
  },
  {
   "cell_type": "code",
   "execution_count": 3,
   "id": "1cba0f4e",
   "metadata": {},
   "outputs": [
    {
     "name": "stdout",
     "output_type": "stream",
     "text": [
      "*****\n",
      "****\n",
      "***\n",
      "**\n",
      "*\n"
     ]
    }
   ],
   "source": [
    "'''8. Draw below pattern\n",
    "Enter the row size for the pattern: 5\n",
    "* * * * *\n",
    "* * * *\n",
    "* * *\n",
    "* *\n",
    "*'''\n",
    "s=int(input(\"Enter the row size:\"))\n",
    "while s>0 :\n",
    "    print(\"*\"*s)\n",
    "    s-=1"
   ]
  },
  {
   "cell_type": "code",
   "execution_count": 2,
   "id": "b70b8ff1",
   "metadata": {},
   "outputs": [
    {
     "name": "stdout",
     "output_type": "stream",
     "text": [
      "* * * * * \n",
      "*       *\n",
      "*       *\n",
      "*       *\n",
      "* * * * * \n"
     ]
    }
   ],
   "source": [
    "''' 9.draw below pattern\n",
    "Enter the row size for the pattern: 5\n",
    "* * * * *\n",
    "*       *\n",
    "*       *\n",
    "*       *\n",
    "* * * * * '''\n",
    "s = int(input(\"Enter the row size:\"))\n",
    "i=0\n",
    "while i<s:\n",
    "    if i==0 or i==s-1:\n",
    "        j=0\n",
    "        while j<s:\n",
    "            print(\"*\", end=\" \")\n",
    "            j+=1\n",
    "    else:\n",
    "        print(\"* \", end=\"\")\n",
    "        j=0\n",
    "        while j< s-2:\n",
    "            print(\"  \",end=\"\")\n",
    "            j+=1\n",
    "        print(\"*\", end=\"\")\n",
    "    print()\n",
    "    i+=1"
   ]
  },
  {
   "cell_type": "code",
   "execution_count": 4,
   "id": "cb6f958b",
   "metadata": {},
   "outputs": [
    {
     "name": "stdout",
     "output_type": "stream",
     "text": [
      "Employee ID: 101, Name: Neha, Salary: ₹80000\n",
      "Bonus: ₹8000.0\n",
      "----------------------------------------\n",
      "Employee ID: 102, Name: Raj, Salary: ₹120000\n",
      "Bonus: ₹18000.0\n",
      "----------------------------------------\n",
      "Employee ID: 103, Name: Amit, Salary: ₹15000\n",
      "Bonus: ₹1000\n",
      "----------------------------------------\n"
     ]
    }
   ],
   "source": [
    "'''Assignment: Employee Management using Inheritance\n",
    "Create a program that models an organization’s employee hierarchy using inheritance.\n",
    "Requirements:\n",
    "Base Class Employee\n",
    "Attributes:\n",
    "emp_id\n",
    "name\n",
    "salary\n",
    "Methods:\n",
    "display_info() prints basic employee details.\n",
    "calculate_bonus() returns 5% of salary (default bonus).\n",
    "------------\n",
    "define below derived classes;\n",
    "Derived Class 1 Developer\n",
    "Inherits from Employee\n",
    "Additional Attribute:\n",
    "programming_language\n",
    "Methods:\n",
    "Override calculate_bonus() 10% of salary.\n",
    "Add show_projects() displays assigned projects.\n",
    "----------------------\n",
    "Derived Class 2 Manager\n",
    "Inherits from Employee\n",
    "Additional Attributes:\n",
    "team_size\n",
    "department\n",
    "Methods:\n",
    "Override calculate_bonus() 15% of salary.\n",
    "assign_task() prints a message about task assignment.\n",
    "----------------------------------\n",
    "Derived Class 3 Intern\n",
    "Inherits from Employee\n",
    "Additional Attribute:\n",
    "duration (in months)\n",
    "Methods:\n",
    "Override calculate_bonus() Fixed ₹ 1000 bonus.\n",
    "extend_internship() increases duration.\n",
    "==========================\n",
    "USING ABOVE ALL, IMPLEMENT INHERITANCE AND POLYMORPHISM and Generate BELOW\n",
    "EXPECTED OUTPOUT:\n",
    "Employee ID: 101, Name: Neha, Salary: ₹ 80000\n",
    "Bonus: ₹ 8000.0\n",
    "----------------------------------------\n",
    "Employee ID: 102, Name: Raj, Salary: ₹ 120000\n",
    "Bonus: ₹ 18000.0\n",
    "----------------------------------------\n",
    "Employee ID: 103, Name: Amit, Salary: ₹ 15000\n",
    "Bonus: ₹ 1000\n",
    "----------------------------------------\n",
    "Neha is working on Python-based backend projects.\n",
    "Manager Raj assigned tasks to 10 team members in IT.\n",
    "Internship extended. New duration: 8 months.'''\n",
    "\n",
    "class Employee:\n",
    "    def __init__(self, emp_id, name, salary):\n",
    "        self.name = name\n",
    "        self.emp_id = emp_id\n",
    "        self.salary = salary\n",
    "\n",
    "    def display_info(self):\n",
    "        print(f\"Employee ID: {self.emp_id}, Name: {self.name}, Salary: ₹{self.salary}\")\n",
    "\n",
    "    def calculate_bonus(self):\n",
    "        return self.salary * 0.05\n",
    "\n",
    "\n",
    "class Developer(Employee):\n",
    "    def __init__(self, emp_id, name, salary, programming_language, projects):\n",
    "        super().__init__(emp_id, name, salary)\n",
    "        self.programming_language = programming_language\n",
    "        self.projects = projects\n",
    "\n",
    "    def calculate_bonus(self):\n",
    "        return self.salary * 0.10\n",
    "\n",
    "    def show_projects(self):\n",
    "        print(self.projects)\n",
    "\n",
    "\n",
    "class Manager(Employee):\n",
    "    def __init__(self, emp_id, name, salary, team_size, department):\n",
    "        super().__init__(emp_id, name, salary)\n",
    "        self.team_size = team_size\n",
    "        self.department = department\n",
    "\n",
    "    def calculate_bonus(self):\n",
    "        return self.salary * 0.15\n",
    "\n",
    "    def assign_task(self):\n",
    "        print(\"Task assigned\")\n",
    "\n",
    "\n",
    "class Intern(Employee):\n",
    "    def __init__(self, emp_id, name, salary, duration):\n",
    "        super().__init__(emp_id, name, salary)\n",
    "        self.duration = duration\n",
    "\n",
    "    def calculate_bonus(self):\n",
    "        return 1000\n",
    "\n",
    "    def extend_internship(self, months):\n",
    "        self.duration += months\n",
    "        print(f\"Internship duration extended. New duration is {self.duration} months.\")\n",
    "\n",
    "Neha = Developer(emp_id=101, name=\"Neha\", salary=80000,\n",
    "                 programming_language=\"Python\", projects=\"Backend Projects\")\n",
    "\n",
    "Raj = Manager(emp_id=102, name=\"Raj\", salary=120000,\n",
    "              team_size=10, department=\"IT\")\n",
    "\n",
    "Amit = Intern(emp_id=103, name=\"Amit\", salary=15000, duration=6)\n",
    "\n",
    "employees = [Neha, Raj, Amit]\n",
    "\n",
    "for emp in employees:\n",
    "    emp.display_info()\n",
    "    bonus_amount = emp.calculate_bonus()\n",
    "    print(f\"Bonus: ₹{bonus_amount}\")\n",
    "    print(\"----------------------------------------\")\n"
   ]
  }
 ],
 "metadata": {
  "kernelspec": {
   "display_name": "Python 3",
   "language": "python",
   "name": "python3"
  },
  "language_info": {
   "codemirror_mode": {
    "name": "ipython",
    "version": 3
   },
   "file_extension": ".py",
   "mimetype": "text/x-python",
   "name": "python",
   "nbconvert_exporter": "python",
   "pygments_lexer": "ipython3",
   "version": "3.9.13"
  }
 },
 "nbformat": 4,
 "nbformat_minor": 5
}
