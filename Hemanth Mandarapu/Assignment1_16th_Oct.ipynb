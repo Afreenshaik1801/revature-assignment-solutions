{
 "cells": [
  {
   "cell_type": "code",
   "execution_count": 6,
   "id": "fbfd86e9",
   "metadata": {},
   "outputs": [
    {
     "name": "stdout",
     "output_type": "stream",
     "text": [
      "    Student_ID  Gender  Age  Study_Hours  Attendance_% Parental_Education  \\\n",
      "0            1  Female   18          3.6          82.6        High School   \n",
      "1            2    Male   17          3.6          81.5      Post Graduate   \n",
      "2            3  Female   19          2.5          96.7      Post Graduate   \n",
      "3            4    Male   17          4.5         104.3           Graduate   \n",
      "4            5    Male   15          4.7          80.7      Post Graduate   \n",
      "..         ...     ...  ...          ...           ...                ...   \n",
      "95          96    Male   14          5.7          70.2      Post Graduate   \n",
      "96          97    Male   14          3.4          86.0           Graduate   \n",
      "97          98    Male   16          4.9         101.5      Post Graduate   \n",
      "98          99    Male   15          3.8         102.3      Post Graduate   \n",
      "99         100    Male   17          2.6          71.4        High School   \n",
      "\n",
      "   Sports_Participation  Math_Score  Reading_Score  Writing_Score  \n",
      "0                   Yes          96             61             49  \n",
      "1                   Yes          73             53             95  \n",
      "2                   Yes          35             60             76  \n",
      "3                    No          94             41             75  \n",
      "4                    No          94             53             96  \n",
      "..                  ...         ...            ...            ...  \n",
      "95                  Yes          71             87             95  \n",
      "96                  Yes          65             38             89  \n",
      "97                   No          50             64             85  \n",
      "98                  Yes          89             90             55  \n",
      "99                  Yes          51             78             68  \n",
      "\n",
      "[100 rows x 10 columns]\n"
     ]
    }
   ],
   "source": [
    "import pandas as pd\n",
    "import numpy as np\n",
    "\n",
    "num_students = 100\n",
    "data = {\n",
    "    'Student_ID': range(1, num_students + 1),\n",
    "    'Gender': np.random.choice(['Male', 'Female'], size=num_students),\n",
    "    'Age': np.random.randint(14, 20, size=num_students),\n",
    "    'Study_Hours': np.round(np.random.normal(3.5, 1.2, num_students), 1),\n",
    "    'Attendance_%': np.round(np.random.normal(85, 10, num_students), 1),\n",
    "    'Parental_Education': np.random.choice(['High School', 'Graduate', 'Post Graduate'], size=num_students),\n",
    "    'Sports_Participation': np.random.choice(['Yes', 'No'], size=num_students),\n",
    "    'Math_Score': np.random.randint(30, 100, size=num_students),\n",
    "    'Reading_Score': np.random.randint(35, 100, size=num_students),\n",
    "    'Writing_Score': np.random.randint(40, 100, size=num_students),\n",
    "}\n",
    "df=pd.DataFrame(data)\n",
    "print(df)"
   ]
  },
  {
   "cell_type": "code",
   "execution_count": 7,
   "id": "68f03bf0",
   "metadata": {},
   "outputs": [
    {
     "name": "stdout",
     "output_type": "stream",
     "text": [
      "Dataset Information:\n",
      "<class 'pandas.core.frame.DataFrame'>\n",
      "RangeIndex: 100 entries, 0 to 99\n",
      "Data columns (total 10 columns):\n",
      " #   Column                Non-Null Count  Dtype  \n",
      "---  ------                --------------  -----  \n",
      " 0   Student_ID            100 non-null    int64  \n",
      " 1   Gender                100 non-null    object \n",
      " 2   Age                   100 non-null    int32  \n",
      " 3   Study_Hours           100 non-null    float64\n",
      " 4   Attendance_%          100 non-null    float64\n",
      " 5   Parental_Education    100 non-null    object \n",
      " 6   Sports_Participation  100 non-null    object \n",
      " 7   Math_Score            100 non-null    int32  \n",
      " 8   Reading_Score         100 non-null    int32  \n",
      " 9   Writing_Score         100 non-null    int32  \n",
      "dtypes: float64(2), int32(4), int64(1), object(3)\n",
      "memory usage: 6.4+ KB\n"
     ]
    }
   ],
   "source": [
    "print(\"Dataset Information:\")\n",
    "df.info()"
   ]
  },
  {
   "cell_type": "code",
   "execution_count": 27,
   "id": "e6cd2071",
   "metadata": {},
   "outputs": [
    {
     "name": "stdout",
     "output_type": "stream",
     "text": [
      "1. Basic Data Inspection\n"
     ]
    }
   ],
   "source": [
    "print(\"1. Basic Data Inspection\")"
   ]
  },
  {
   "cell_type": "code",
   "execution_count": 22,
   "id": "dba44b42",
   "metadata": {},
   "outputs": [
    {
     "name": "stdout",
     "output_type": "stream",
     "text": [
      "First 5 records: \n"
     ]
    },
    {
     "data": {
      "text/html": [
       "<div>\n",
       "<style scoped>\n",
       "    .dataframe tbody tr th:only-of-type {\n",
       "        vertical-align: middle;\n",
       "    }\n",
       "\n",
       "    .dataframe tbody tr th {\n",
       "        vertical-align: top;\n",
       "    }\n",
       "\n",
       "    .dataframe thead th {\n",
       "        text-align: right;\n",
       "    }\n",
       "</style>\n",
       "<table border=\"1\" class=\"dataframe\">\n",
       "  <thead>\n",
       "    <tr style=\"text-align: right;\">\n",
       "      <th></th>\n",
       "      <th>Student_ID</th>\n",
       "      <th>Gender</th>\n",
       "      <th>Age</th>\n",
       "      <th>Study_Hours</th>\n",
       "      <th>Attendance_%</th>\n",
       "      <th>Parental_Education</th>\n",
       "      <th>Sports_Participation</th>\n",
       "      <th>Math_Score</th>\n",
       "      <th>Reading_Score</th>\n",
       "      <th>Writing_Score</th>\n",
       "    </tr>\n",
       "  </thead>\n",
       "  <tbody>\n",
       "    <tr>\n",
       "      <th>0</th>\n",
       "      <td>1</td>\n",
       "      <td>Female</td>\n",
       "      <td>18</td>\n",
       "      <td>3.6</td>\n",
       "      <td>82.6</td>\n",
       "      <td>High School</td>\n",
       "      <td>Yes</td>\n",
       "      <td>96</td>\n",
       "      <td>61</td>\n",
       "      <td>49</td>\n",
       "    </tr>\n",
       "    <tr>\n",
       "      <th>1</th>\n",
       "      <td>2</td>\n",
       "      <td>Male</td>\n",
       "      <td>17</td>\n",
       "      <td>3.6</td>\n",
       "      <td>81.5</td>\n",
       "      <td>Post Graduate</td>\n",
       "      <td>Yes</td>\n",
       "      <td>73</td>\n",
       "      <td>53</td>\n",
       "      <td>95</td>\n",
       "    </tr>\n",
       "    <tr>\n",
       "      <th>2</th>\n",
       "      <td>3</td>\n",
       "      <td>Female</td>\n",
       "      <td>19</td>\n",
       "      <td>2.5</td>\n",
       "      <td>96.7</td>\n",
       "      <td>Post Graduate</td>\n",
       "      <td>Yes</td>\n",
       "      <td>35</td>\n",
       "      <td>60</td>\n",
       "      <td>76</td>\n",
       "    </tr>\n",
       "    <tr>\n",
       "      <th>3</th>\n",
       "      <td>4</td>\n",
       "      <td>Male</td>\n",
       "      <td>17</td>\n",
       "      <td>4.5</td>\n",
       "      <td>104.3</td>\n",
       "      <td>Graduate</td>\n",
       "      <td>No</td>\n",
       "      <td>94</td>\n",
       "      <td>41</td>\n",
       "      <td>75</td>\n",
       "    </tr>\n",
       "    <tr>\n",
       "      <th>4</th>\n",
       "      <td>5</td>\n",
       "      <td>Male</td>\n",
       "      <td>15</td>\n",
       "      <td>4.7</td>\n",
       "      <td>80.7</td>\n",
       "      <td>Post Graduate</td>\n",
       "      <td>No</td>\n",
       "      <td>94</td>\n",
       "      <td>53</td>\n",
       "      <td>96</td>\n",
       "    </tr>\n",
       "  </tbody>\n",
       "</table>\n",
       "</div>"
      ],
      "text/plain": [
       "   Student_ID  Gender  Age  Study_Hours  Attendance_% Parental_Education  \\\n",
       "0           1  Female   18          3.6          82.6        High School   \n",
       "1           2    Male   17          3.6          81.5      Post Graduate   \n",
       "2           3  Female   19          2.5          96.7      Post Graduate   \n",
       "3           4    Male   17          4.5         104.3           Graduate   \n",
       "4           5    Male   15          4.7          80.7      Post Graduate   \n",
       "\n",
       "  Sports_Participation  Math_Score  Reading_Score  Writing_Score  \n",
       "0                  Yes          96             61             49  \n",
       "1                  Yes          73             53             95  \n",
       "2                  Yes          35             60             76  \n",
       "3                   No          94             41             75  \n",
       "4                   No          94             53             96  "
      ]
     },
     "execution_count": 22,
     "metadata": {},
     "output_type": "execute_result"
    }
   ],
   "source": [
    "print(\"First 5 records: \")\n",
    "df.head()"
   ]
  },
  {
   "cell_type": "code",
   "execution_count": 21,
   "id": "5daf9c0a",
   "metadata": {},
   "outputs": [
    {
     "name": "stdout",
     "output_type": "stream",
     "text": [
      "Last 5 records: \n"
     ]
    },
    {
     "data": {
      "text/html": [
       "<div>\n",
       "<style scoped>\n",
       "    .dataframe tbody tr th:only-of-type {\n",
       "        vertical-align: middle;\n",
       "    }\n",
       "\n",
       "    .dataframe tbody tr th {\n",
       "        vertical-align: top;\n",
       "    }\n",
       "\n",
       "    .dataframe thead th {\n",
       "        text-align: right;\n",
       "    }\n",
       "</style>\n",
       "<table border=\"1\" class=\"dataframe\">\n",
       "  <thead>\n",
       "    <tr style=\"text-align: right;\">\n",
       "      <th></th>\n",
       "      <th>Student_ID</th>\n",
       "      <th>Gender</th>\n",
       "      <th>Age</th>\n",
       "      <th>Study_Hours</th>\n",
       "      <th>Attendance_%</th>\n",
       "      <th>Parental_Education</th>\n",
       "      <th>Sports_Participation</th>\n",
       "      <th>Math_Score</th>\n",
       "      <th>Reading_Score</th>\n",
       "      <th>Writing_Score</th>\n",
       "    </tr>\n",
       "  </thead>\n",
       "  <tbody>\n",
       "    <tr>\n",
       "      <th>95</th>\n",
       "      <td>96</td>\n",
       "      <td>Male</td>\n",
       "      <td>14</td>\n",
       "      <td>5.7</td>\n",
       "      <td>70.2</td>\n",
       "      <td>Post Graduate</td>\n",
       "      <td>Yes</td>\n",
       "      <td>71</td>\n",
       "      <td>87</td>\n",
       "      <td>95</td>\n",
       "    </tr>\n",
       "    <tr>\n",
       "      <th>96</th>\n",
       "      <td>97</td>\n",
       "      <td>Male</td>\n",
       "      <td>14</td>\n",
       "      <td>3.4</td>\n",
       "      <td>86.0</td>\n",
       "      <td>Graduate</td>\n",
       "      <td>Yes</td>\n",
       "      <td>65</td>\n",
       "      <td>38</td>\n",
       "      <td>89</td>\n",
       "    </tr>\n",
       "    <tr>\n",
       "      <th>97</th>\n",
       "      <td>98</td>\n",
       "      <td>Male</td>\n",
       "      <td>16</td>\n",
       "      <td>4.9</td>\n",
       "      <td>101.5</td>\n",
       "      <td>Post Graduate</td>\n",
       "      <td>No</td>\n",
       "      <td>50</td>\n",
       "      <td>64</td>\n",
       "      <td>85</td>\n",
       "    </tr>\n",
       "    <tr>\n",
       "      <th>98</th>\n",
       "      <td>99</td>\n",
       "      <td>Male</td>\n",
       "      <td>15</td>\n",
       "      <td>3.8</td>\n",
       "      <td>102.3</td>\n",
       "      <td>Post Graduate</td>\n",
       "      <td>Yes</td>\n",
       "      <td>89</td>\n",
       "      <td>90</td>\n",
       "      <td>55</td>\n",
       "    </tr>\n",
       "    <tr>\n",
       "      <th>99</th>\n",
       "      <td>100</td>\n",
       "      <td>Male</td>\n",
       "      <td>17</td>\n",
       "      <td>2.6</td>\n",
       "      <td>71.4</td>\n",
       "      <td>High School</td>\n",
       "      <td>Yes</td>\n",
       "      <td>51</td>\n",
       "      <td>78</td>\n",
       "      <td>68</td>\n",
       "    </tr>\n",
       "  </tbody>\n",
       "</table>\n",
       "</div>"
      ],
      "text/plain": [
       "    Student_ID Gender  Age  Study_Hours  Attendance_% Parental_Education  \\\n",
       "95          96   Male   14          5.7          70.2      Post Graduate   \n",
       "96          97   Male   14          3.4          86.0           Graduate   \n",
       "97          98   Male   16          4.9         101.5      Post Graduate   \n",
       "98          99   Male   15          3.8         102.3      Post Graduate   \n",
       "99         100   Male   17          2.6          71.4        High School   \n",
       "\n",
       "   Sports_Participation  Math_Score  Reading_Score  Writing_Score  \n",
       "95                  Yes          71             87             95  \n",
       "96                  Yes          65             38             89  \n",
       "97                   No          50             64             85  \n",
       "98                  Yes          89             90             55  \n",
       "99                  Yes          51             78             68  "
      ]
     },
     "execution_count": 21,
     "metadata": {},
     "output_type": "execute_result"
    }
   ],
   "source": [
    "print(\"Last 5 records: \")\n",
    "df.tail()"
   ]
  },
  {
   "cell_type": "code",
   "execution_count": 20,
   "id": "5841b470",
   "metadata": {},
   "outputs": [
    {
     "name": "stdout",
     "output_type": "stream",
     "text": [
      "Numerical Summary Statistics:\n"
     ]
    },
    {
     "data": {
      "text/html": [
       "<div>\n",
       "<style scoped>\n",
       "    .dataframe tbody tr th:only-of-type {\n",
       "        vertical-align: middle;\n",
       "    }\n",
       "\n",
       "    .dataframe tbody tr th {\n",
       "        vertical-align: top;\n",
       "    }\n",
       "\n",
       "    .dataframe thead th {\n",
       "        text-align: right;\n",
       "    }\n",
       "</style>\n",
       "<table border=\"1\" class=\"dataframe\">\n",
       "  <thead>\n",
       "    <tr style=\"text-align: right;\">\n",
       "      <th></th>\n",
       "      <th>Student_ID</th>\n",
       "      <th>Age</th>\n",
       "      <th>Study_Hours</th>\n",
       "      <th>Attendance_%</th>\n",
       "      <th>Math_Score</th>\n",
       "      <th>Reading_Score</th>\n",
       "      <th>Writing_Score</th>\n",
       "    </tr>\n",
       "  </thead>\n",
       "  <tbody>\n",
       "    <tr>\n",
       "      <th>count</th>\n",
       "      <td>100.000000</td>\n",
       "      <td>100.000000</td>\n",
       "      <td>100.000000</td>\n",
       "      <td>100.000000</td>\n",
       "      <td>100.000000</td>\n",
       "      <td>100.000000</td>\n",
       "      <td>100.000000</td>\n",
       "    </tr>\n",
       "    <tr>\n",
       "      <th>mean</th>\n",
       "      <td>50.500000</td>\n",
       "      <td>16.680000</td>\n",
       "      <td>3.520000</td>\n",
       "      <td>86.766000</td>\n",
       "      <td>63.360000</td>\n",
       "      <td>64.580000</td>\n",
       "      <td>71.970000</td>\n",
       "    </tr>\n",
       "    <tr>\n",
       "      <th>std</th>\n",
       "      <td>29.011492</td>\n",
       "      <td>1.681029</td>\n",
       "      <td>1.170168</td>\n",
       "      <td>10.053405</td>\n",
       "      <td>21.193919</td>\n",
       "      <td>17.719578</td>\n",
       "      <td>17.796524</td>\n",
       "    </tr>\n",
       "    <tr>\n",
       "      <th>min</th>\n",
       "      <td>1.000000</td>\n",
       "      <td>14.000000</td>\n",
       "      <td>0.500000</td>\n",
       "      <td>57.600000</td>\n",
       "      <td>30.000000</td>\n",
       "      <td>35.000000</td>\n",
       "      <td>41.000000</td>\n",
       "    </tr>\n",
       "    <tr>\n",
       "      <th>25%</th>\n",
       "      <td>25.750000</td>\n",
       "      <td>15.000000</td>\n",
       "      <td>2.800000</td>\n",
       "      <td>80.700000</td>\n",
       "      <td>43.750000</td>\n",
       "      <td>50.750000</td>\n",
       "      <td>55.000000</td>\n",
       "    </tr>\n",
       "    <tr>\n",
       "      <th>50%</th>\n",
       "      <td>50.500000</td>\n",
       "      <td>17.000000</td>\n",
       "      <td>3.500000</td>\n",
       "      <td>86.550000</td>\n",
       "      <td>62.500000</td>\n",
       "      <td>63.000000</td>\n",
       "      <td>73.500000</td>\n",
       "    </tr>\n",
       "    <tr>\n",
       "      <th>75%</th>\n",
       "      <td>75.250000</td>\n",
       "      <td>18.000000</td>\n",
       "      <td>4.300000</td>\n",
       "      <td>93.850000</td>\n",
       "      <td>81.250000</td>\n",
       "      <td>78.250000</td>\n",
       "      <td>88.000000</td>\n",
       "    </tr>\n",
       "    <tr>\n",
       "      <th>max</th>\n",
       "      <td>100.000000</td>\n",
       "      <td>19.000000</td>\n",
       "      <td>6.600000</td>\n",
       "      <td>107.100000</td>\n",
       "      <td>98.000000</td>\n",
       "      <td>99.000000</td>\n",
       "      <td>99.000000</td>\n",
       "    </tr>\n",
       "  </tbody>\n",
       "</table>\n",
       "</div>"
      ],
      "text/plain": [
       "       Student_ID         Age  Study_Hours  Attendance_%  Math_Score  \\\n",
       "count  100.000000  100.000000   100.000000    100.000000  100.000000   \n",
       "mean    50.500000   16.680000     3.520000     86.766000   63.360000   \n",
       "std     29.011492    1.681029     1.170168     10.053405   21.193919   \n",
       "min      1.000000   14.000000     0.500000     57.600000   30.000000   \n",
       "25%     25.750000   15.000000     2.800000     80.700000   43.750000   \n",
       "50%     50.500000   17.000000     3.500000     86.550000   62.500000   \n",
       "75%     75.250000   18.000000     4.300000     93.850000   81.250000   \n",
       "max    100.000000   19.000000     6.600000    107.100000   98.000000   \n",
       "\n",
       "       Reading_Score  Writing_Score  \n",
       "count     100.000000     100.000000  \n",
       "mean       64.580000      71.970000  \n",
       "std        17.719578      17.796524  \n",
       "min        35.000000      41.000000  \n",
       "25%        50.750000      55.000000  \n",
       "50%        63.000000      73.500000  \n",
       "75%        78.250000      88.000000  \n",
       "max        99.000000      99.000000  "
      ]
     },
     "execution_count": 20,
     "metadata": {},
     "output_type": "execute_result"
    }
   ],
   "source": [
    "print(\"Numerical Summary Statistics:\")\n",
    "df.describe()  #Gives count, mean, std, min, 25%, 50%, 75%, max for numerical columns"
   ]
  },
  {
   "cell_type": "code",
   "execution_count": 19,
   "id": "3da55dd6",
   "metadata": {},
   "outputs": [
    {
     "name": "stdout",
     "output_type": "stream",
     "text": [
      "No of rows and columns: \n"
     ]
    },
    {
     "data": {
      "text/plain": [
       "(100, 10)"
      ]
     },
     "execution_count": 19,
     "metadata": {},
     "output_type": "execute_result"
    }
   ],
   "source": [
    "print(\"No of rows and columns: \")\n",
    "df.shape  #Returns (rows, columns)"
   ]
  },
  {
   "cell_type": "code",
   "execution_count": 18,
   "id": "15f5e008",
   "metadata": {},
   "outputs": [
    {
     "name": "stdout",
     "output_type": "stream",
     "text": [
      "Find missing values in each column\n"
     ]
    },
    {
     "data": {
      "text/plain": [
       "Student_ID              0\n",
       "Gender                  0\n",
       "Age                     0\n",
       "Study_Hours             0\n",
       "Attendance_%            0\n",
       "Parental_Education      0\n",
       "Sports_Participation    0\n",
       "Math_Score              0\n",
       "Reading_Score           0\n",
       "Writing_Score           0\n",
       "dtype: int64"
      ]
     },
     "execution_count": 18,
     "metadata": {},
     "output_type": "execute_result"
    }
   ],
   "source": [
    "print(\"Find missing values in each column\")\n",
    "df.isnull().sum()   #Returns count of missing values in each column"
   ]
  },
  {
   "cell_type": "code",
   "execution_count": 26,
   "id": "456ea10e",
   "metadata": {},
   "outputs": [
    {
     "name": "stdout",
     "output_type": "stream",
     "text": [
      "Fill missing values with column mean for numerical columns\n",
      "Missing values filled.\n",
      "Dataset after handling missing values:\n",
      "    Student_ID  Gender  Age  Study_Hours  Attendance_% Parental_Education  \\\n",
      "0            1  Female   18          3.6          82.6        High School   \n",
      "1            2    Male   17          3.6          81.5      Post Graduate   \n",
      "2            3  Female   19          2.5          96.7      Post Graduate   \n",
      "3            4    Male   17          4.5         104.3           Graduate   \n",
      "4            5    Male   15          4.7          80.7      Post Graduate   \n",
      "..         ...     ...  ...          ...           ...                ...   \n",
      "95          96    Male   14          5.7          70.2      Post Graduate   \n",
      "96          97    Male   14          3.4          86.0           Graduate   \n",
      "97          98    Male   16          4.9         101.5      Post Graduate   \n",
      "98          99    Male   15          3.8         102.3      Post Graduate   \n",
      "99         100    Male   17          2.6          71.4        High School   \n",
      "\n",
      "   Sports_Participation  Math_Score  Reading_Score  Writing_Score  \n",
      "0                   Yes          96             61             49  \n",
      "1                   Yes          73             53             95  \n",
      "2                   Yes          35             60             76  \n",
      "3                    No          94             41             75  \n",
      "4                    No          94             53             96  \n",
      "..                  ...         ...            ...            ...  \n",
      "95                  Yes          71             87             95  \n",
      "96                  Yes          65             38             89  \n",
      "97                   No          50             64             85  \n",
      "98                  Yes          89             90             55  \n",
      "99                  Yes          51             78             68  \n",
      "\n",
      "[100 rows x 10 columns]\n"
     ]
    }
   ],
   "source": [
    "print(\"Fill missing values with column mean for numerical columns\")\n",
    "numerical_cols = ['Age', 'Study_Hours', 'Attendance_%', 'Math_Score', 'Reading_Score', 'Writing_Score']\n",
    "for col in numerical_cols:\n",
    "    df[col].fillna(df[col].mean(), inplace=True)\n",
    "if numerical_cols:\n",
    "    print(\"Missing values filled.\")\n",
    "else:\n",
    "    print(\"No missing values found.\")\n",
    "print(\"Dataset after handling missing values:\")\n",
    "print(df)"
   ]
  },
  {
   "cell_type": "code",
   "execution_count": 70,
   "id": "c131604c",
   "metadata": {},
   "outputs": [
    {
     "name": "stdout",
     "output_type": "stream",
     "text": [
      "2. Build a visualisation with Study Hours vs Average Score\n"
     ]
    },
    {
     "data": {
      "image/png": "[encoded data removed]",
      "text/plain": [
       "<Figure size 504x288 with 1 Axes>"
      ]
     },
     "metadata": {
      "needs_background": "light"
     },
     "output_type": "display_data"
    }
   ],
   "source": [
    "print(\"2. Build a visualisation with Study Hours vs Average Score\")\n",
    "import matplotlib.pyplot as plt\n",
    "import seaborn as sns\n",
    "plt.figure(figsize=(7,4))\n",
    "df['Average_score'] = df[['Math_Score', 'Reading_Score', 'Writing_Score']].mean(axis=1)\n",
    "sns.scatterplot(x=\"Study_Hours\", y=\"Average_score\", data=df, color='green')\n",
    "plt.title(\"Study Hours vs Average Score\")\n",
    "plt.xlabel(\"Study Hours\")   \n",
    "plt.ylabel(\"Average Score\")\n",
    "plt.show()\n"
   ]
  },
  {
   "cell_type": "code",
   "execution_count": 69,
   "id": "e97be7fa",
   "metadata": {},
   "outputs": [
    {
     "name": "stdout",
     "output_type": "stream",
     "text": [
      "3. Build visualisation with Attendance vs Average Score\n"
     ]
    },
    {
     "data": {
      "image/png": "[encoded data removed]",
      "text/plain": [
       "<Figure size 504x288 with 1 Axes>"
      ]
     },
     "metadata": {
      "needs_background": "light"
     },
     "output_type": "display_data"
    }
   ],
   "source": [
    "print(\"3. Build visualisation with Attendance vs Average Score\")\n",
    "plt.figure(figsize=(7,4))\n",
    "sns.scatterplot(x=\"Attendance_%\", y=\"Average_score\", data=df, color='orange')\n",
    "plt.title(\"Attendance vs Average Score\")\n",
    "plt.xlabel(\"Attendance Percentage\")   \n",
    "plt.ylabel(\"Average Score\")\n",
    "plt.show()"
   ]
  },
  {
   "cell_type": "code",
   "execution_count": 68,
   "id": "774d3609",
   "metadata": {},
   "outputs": [
    {
     "name": "stdout",
     "output_type": "stream",
     "text": [
      "4. Build visualisation with Average Score by Parental Education Level\n"
     ]
    },
    {
     "data": {
      "image/png": "[encoded data removed]",
      "text/plain": [
       "<Figure size 576x360 with 1 Axes>"
      ]
     },
     "metadata": {
      "needs_background": "light"
     },
     "output_type": "display_data"
    }
   ],
   "source": [
    "print(\"4. Build visualisation with Average Score by Parental Education Level\")\n",
    "plt.figure(figsize=(8,5))\n",
    "sns.boxplot(x=\"Parental_Education\", y=\"Average_score\", data=df, palette=\"deep\", hue=\"Parental_Education\") \n",
    "plt.title(\"Average Score by Parental Education Level\")\n",
    "plt.xlabel(\"Parental Education Level\")\n",
    "plt.ylabel(\"Average Score\")\n",
    "plt.show()"
   ]
  },
  {
   "cell_type": "code",
   "execution_count": 67,
   "id": "022a33ea",
   "metadata": {},
   "outputs": [
    {
     "name": "stdout",
     "output_type": "stream",
     "text": [
      "5. Build visualisation with Average Performance by Gender\n"
     ]
    },
    {
     "data": {
      "image/png": "[encoded data removed]",
      "text/plain": [
       "<Figure size 504x288 with 1 Axes>"
      ]
     },
     "metadata": {
      "needs_background": "light"
     },
     "output_type": "display_data"
    }
   ],
   "source": [
    "print(\"5. Build visualisation with Average Performance by Gender\")\n",
    "plt.figure(figsize=(7,4))\n",
    "sns.barplot(x=\"Gender\", y=\"Average_score\", data=df, palette=\"bright\",hue=\"Gender\")\n",
    "plt.title(\"Average Performance by Gender\")\n",
    "plt.xlabel(\"Gender\")        \n",
    "plt.ylabel(\"Average Score\")\n",
    "plt.show()"
   ]
  }
 ],
 "metadata": {
  "kernelspec": {
   "display_name": "Python 3",
   "language": "python",
   "name": "python3"
  },
  "language_info": {
   "codemirror_mode": {
    "name": "ipython",
    "version": 3
   },
   "file_extension": ".py",
   "mimetype": "text/x-python",
   "name": "python",
   "nbconvert_exporter": "python",
   "pygments_lexer": "ipython3",
   "version": "3.9.13"
  }
 },
 "nbformat": 4,
 "nbformat_minor": 5
}
