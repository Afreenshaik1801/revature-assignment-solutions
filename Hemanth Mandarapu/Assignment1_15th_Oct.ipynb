{
 "cells": [
  {
   "cell_type": "code",
   "execution_count": null,
   "id": "c7d1c6a4",
   "metadata": {},
   "outputs": [
    {
     "name": "stdout",
     "output_type": "stream",
     "text": [
      "['it\\n', 'going'] "
     ]
    }
   ],
   "source": [
    "#1.Reading last n lines in a file\n",
    "n= int(input())\n",
    "filename=\"test.txt\"\n",
    "with open(filename,'r') as f:\n",
    "    Li= f.readlines()\n",
    "print(Li[-n:])"
   ]
  },
  {
   "cell_type": "code",
   "execution_count": 8,
   "id": "4d5dd1e2",
   "metadata": {},
   "outputs": [
    {
     "name": "stdout",
     "output_type": "stream",
     "text": [
      "['hello \\n', 'world\\n', 'how\\n', 'is \\n', 'it\\n', 'going']\n"
     ]
    }
   ],
   "source": [
    "#2. Create a list by reading line by line from a file\n",
    "filename=\"test.txt\"\n",
    "with open(filename, 'r') as f:\n",
    "    Li= f.readlines()\n",
    "print(Li)"
   ]
  },
  {
   "cell_type": "code",
   "execution_count": 9,
   "id": "c16c4cbb",
   "metadata": {},
   "outputs": [
    {
     "name": "stdout",
     "output_type": "stream",
     "text": [
      "6\n"
     ]
    }
   ],
   "source": [
    "#3. Count number of lines in the given file\n",
    "filename=\"test.txt\"\n",
    "with open(filename, 'r') as f:\n",
    "    Li= f.readlines()\n",
    "print(len(Li))"
   ]
  },
  {
   "cell_type": "code",
   "execution_count": 11,
   "id": "0a29148c",
   "metadata": {},
   "outputs": [
    {
     "name": "stdout",
     "output_type": "stream",
     "text": [
      "3\n"
     ]
    }
   ],
   "source": [
    "#4 .Find the lengthy words in a given file.\n",
    "Filename=\"test.txt\"\n",
    "Min_word_length=4\n",
    "large_words=set()\n",
    "with open(Filename, 'r') as f:\n",
    "    for line in f:\n",
    "        word= line.split()\n",
    "        for w in word:\n",
    "            if len(w)>Min_word_length:\n",
    "                large_words.add(w)\n",
    "print(len(large_words))"
   ]
  }
 ],
 "metadata": {
  "kernelspec": {
   "display_name": "Python 3",
   "language": "python",
   "name": "python3"
  },
  "language_info": {
   "codemirror_mode": {
    "name": "ipython",
    "version": 3
   },
   "file_extension": ".py",
   "mimetype": "text/x-python",
   "name": "python",
   "nbconvert_exporter": "python",
   "pygments_lexer": "ipython3",
   "version": "3.9.13"
  }
 },
 "nbformat": 4,
 "nbformat_minor": 5
}
