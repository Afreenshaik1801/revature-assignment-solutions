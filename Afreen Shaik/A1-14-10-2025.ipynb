{
 "cells": [
  {
   "cell_type": "code",
   "execution_count": 94,
   "id": "8f2c082d-2964-499a-8963-ef1a7da8f5e6",
   "metadata": {},
   "outputs": [
    {
     "name": "stdout",
     "output_type": "stream",
     "text": [
      "120\n"
     ]
    }
   ],
   "source": [
    "#Product of elements\n",
    "list=[1,2,3,4,5]\n",
    "product=1\n",
    "for i in list:\n",
    "    product*=i\n",
    "print(product)"
   ]
  },
  {
   "cell_type": "code",
   "execution_count": 101,
   "id": "80b398e8-3100-44cc-8461-2f591b8916b8",
   "metadata": {},
   "outputs": [
    {
     "name": "stdout",
     "output_type": "stream",
     "text": [
      "10\n",
      "9\n",
      "8\n",
      "7\n",
      "6\n",
      "5\n",
      "4\n",
      "3\n",
      "2\n",
      "1\n"
     ]
    }
   ],
   "source": [
    "#Reverse Order\n",
    "for i in range(10,0,-1):\n",
    "    print(i)"
   ]
  },
  {
   "cell_type": "code",
   "execution_count": 102,
   "id": "f9fcb189-9dd1-4ecc-9031-c65df8f1871e",
   "metadata": {},
   "outputs": [
    {
     "name": "stdout",
     "output_type": "stream",
     "text": [
      "9\n"
     ]
    }
   ],
   "source": [
    "#largest number in a list\n",
    "nums=[3,9,1,6,2,8]\n",
    "largest=0\n",
    "for num in nums:\n",
    "    if num>largest:\n",
    "        largest=num\n",
    "print(largest)"
   ]
  },
  {
   "cell_type": "code",
   "execution_count": 104,
   "id": "ba70b04f-d11e-4fee-8868-f318e34ede3a",
   "metadata": {},
   "outputs": [
    {
     "name": "stdout",
     "output_type": "stream",
     "text": [
      "H W "
     ]
    }
   ],
   "source": [
    "#printing uppercase letters\n",
    "n=\"Hello World\"\n",
    "for i in n:\n",
    "    if i.isupper():\n",
    "        print(i,end=\" \")"
   ]
  },
  {
   "cell_type": "code",
   "execution_count": 105,
   "id": "64f2e3ce-3e1a-4f7a-a979-a171477e25db",
   "metadata": {},
   "outputs": [
    {
     "name": "stdout",
     "output_type": "stream",
     "text": [
      "9\n"
     ]
    }
   ],
   "source": [
    "#first Occurance\n",
    "n=[3,9,1,6,2,8,10]\n",
    "i=0\n",
    "while i<len(n):\n",
    "    if n[i]>5:\n",
    "        print(n[i])\n",
    "        break\n",
    "    i+=1"
   ]
  },
  {
   "cell_type": "code",
   "execution_count": 106,
   "id": "05adde76-0891-490b-9bf6-ae849327ecad",
   "metadata": {},
   "outputs": [
    {
     "name": "stdout",
     "output_type": "stream",
     "text": [
      "1\n",
      "4\n",
      "6\n",
      "8\n",
      "10\n"
     ]
    }
   ],
   "source": [
    "#Print until -ve Num\n",
    "n=[1, 4, 6, 8, 10, -3, 5, 7]\n",
    "index=0\n",
    "while index<len(n) and n[index]>=0:\n",
    "    print(n[index])\n",
    "    index+=1"
   ]
  },
  {
   "cell_type": "code",
   "execution_count": 108,
   "id": "3b30c356-5439-4d25-82b7-1dbb44e7a17b",
   "metadata": {},
   "outputs": [
    {
     "name": "stdout",
     "output_type": "stream",
     "text": [
      "Even num 2 found\n"
     ]
    }
   ],
   "source": [
    "#if even then break\n",
    "for i in range(1,11):\n",
    "    if i%2==0:\n",
    "        print(f\"Even num {i} found\")\n",
    "        break\n",
    "else:\n",
    "    print(\"No even num found\")"
   ]
  },
  {
   "cell_type": "code",
   "execution_count": 109,
   "id": "22a42b9d-6a31-4c28-bfd2-b5bd9370285c",
   "metadata": {},
   "outputs": [
    {
     "name": "stdout",
     "output_type": "stream",
     "text": [
      "* * * * * \n",
      "* * * * \n",
      "* * * \n",
      "* * \n",
      "* \n"
     ]
    }
   ],
   "source": [
    "#pattern (inverted Right angle triangle)\n",
    "n=5\n",
    "for i in range(n,0,-1):\n",
    "    for j in range(i):\n",
    "        print(f\"*\",end=\" \")\n",
    "    print()"
   ]
  },
  {
   "cell_type": "code",
   "execution_count": 110,
   "id": "7c7d388b-0a3c-4982-b8f0-cfdfc5395fd5",
   "metadata": {},
   "outputs": [
    {
     "name": "stdout",
     "output_type": "stream",
     "text": [
      "* * * * * \n",
      "*       * \n",
      "*       * \n",
      "*       * \n",
      "* * * * * \n"
     ]
    }
   ],
   "source": [
    "#Hallow Pattern\n",
    "n=5\n",
    "for i in range(1,n+1):\n",
    "    for j in range(1,n+1):\n",
    "        if i==1 or i==n or j==1 or j==n:\n",
    "            print(f\"*\",end=\" \")\n",
    "        else:\n",
    "            print(f\" \",end=\" \")\n",
    "    print()"
   ]
  },
  {
   "cell_type": "code",
   "execution_count": 111,
   "id": "9075f5ed-9410-4f75-b742-7de8b1fa0f7f",
   "metadata": {},
   "outputs": [
    {
     "name": "stdout",
     "output_type": "stream",
     "text": [
      "Employee ID: 101,Name: Neha,salary: ₹80000\n",
      "Bonus: ₹8000.0\n",
      "-----------------------------------------------------\n",
      "Employee ID: 102,Name: Raj,salary: ₹120000\n",
      "Bonus: ₹18000.0\n",
      "-----------------------------------------------------\n",
      "Employee ID: 103,Name: Amit,salary: ₹15000\n",
      "Bonus: ₹1000\n",
      "-----------------------------------------------------\n",
      "Neha is working on Python-based backend projects.\n",
      "Manager Raj assigned tasks to 10 team members in IT.\n",
      "Internship Extended. New duartion: 8 months.\n"
     ]
    }
   ],
   "source": [
    "#Employee Management using Inheritence \n",
    "\n",
    "class Employee:\n",
    "    def __init__(self, emp_id, name, salary):\n",
    "        self.emp_id=emp_id\n",
    "        self.name=name\n",
    "        self.salary=salary\n",
    "    def display_info(self):\n",
    "        print(f\"Employee ID: {self.emp_id},Name: {self.name},salary: ₹{self.salary}\")\n",
    "    def calculate_bonus(self):\n",
    "        return self.salary * 0.05\n",
    "        \n",
    "class Developer(Employee):\n",
    "    def __init__(self,emp_id, name, salary, programming_language):\n",
    "        super().__init__(emp_id, name, salary)\n",
    "        self.programming_language=programming_language\n",
    "    def calculate_bonus(self):\n",
    "        return self.salary * 0.10\n",
    "    def show_projects(self):\n",
    "        print(f\"{self.name} is working on {self.programming_language}-based backend projects.\")\n",
    "        \n",
    "class Manager(Employee):\n",
    "    def __init__(self, emp_id, name, salary, team_size, department):\n",
    "        super().__init__(emp_id, name, salary)\n",
    "        self.team_size=team_size\n",
    "        self.department=department\n",
    "    def calculate_bonus(self):\n",
    "        return self.salary * 0.15\n",
    "    def assign_task(self):\n",
    "        print(f\"Manager {self.name} assigned tasks to {self.team_size} team members in {self.department}.\")\n",
    "        \n",
    "class Intern(Employee):\n",
    "    def __init__(self, emp_id, name, salary, duration):\n",
    "        super().__init__(emp_id, name, salary)\n",
    "        self.duration=duration\n",
    "    def calculate_bonus(self):\n",
    "        return 1000\n",
    "    def extend_internship(self,months=1):\n",
    "        self.duration+=months\n",
    "        print(f\"Internship Extended. New duartion: {self.duration} months.\")\n",
    "\n",
    "\n",
    "d=Developer(101,\"Neha\",80000,\"Python\")\n",
    "d.display_info()\n",
    "print(f\"Bonus: ₹{d.calculate_bonus()}\")\n",
    "print(\"-\"*53)\n",
    "    \n",
    "m=Manager(102,\"Raj\",120000,10,\"IT\")\n",
    "m.display_info()\n",
    "print(f\"Bonus: ₹{m.calculate_bonus()}\")\n",
    "print(\"-\"*53)\n",
    "\n",
    "i=Intern(103,\"Amit\",15000,7)\n",
    "i.display_info()\n",
    "print(f\"Bonus: ₹{i.calculate_bonus()}\")\n",
    "print(\"-\"*53)\n",
    "\n",
    "d.show_projects()\n",
    "m.assign_task()\n",
    "i.extend_internship()"
   ]
  }
 ],
 "metadata": {
  "kernelspec": {
   "display_name": "Python [conda env:base] *",
   "language": "python",
   "name": "conda-base-py"
  },
  "language_info": {
   "codemirror_mode": {
    "name": "ipython",
    "version": 3
   },
   "file_extension": ".py",
   "mimetype": "text/x-python",
   "name": "python",
   "nbconvert_exporter": "python",
   "pygments_lexer": "ipython3",
   "version": "3.12.7"
  }
 },
 "nbformat": 4,
 "nbformat_minor": 5
}
