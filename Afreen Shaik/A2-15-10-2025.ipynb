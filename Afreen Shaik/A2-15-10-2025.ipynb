{
 "cells": [
  {
   "cell_type": "code",
   "execution_count": 61,
   "id": "4ba35e20-658e-4bf0-b0c6-f9afdcb472ed",
   "metadata": {},
   "outputs": [
    {
     "name": "stdin",
     "output_type": "stream",
     "text": [
      "Enter the no of lines to read: 2\n"
     ]
    },
    {
     "name": "stdout",
     "output_type": "stream",
     "text": [
      "python2\n",
      "python3\n"
     ]
    }
   ],
   "source": [
    "#reading last n lines\n",
    "def last_n_lines(f, n):\n",
    "    try:\n",
    "        with open(f) as file:\n",
    "            lines = file.readlines()\n",
    "            for line in lines[-n:]:\n",
    "                print(line, end='')\n",
    "    except:\n",
    "        print('File not found:', filename)\n",
    "filename = 'sample.txt'\n",
    "n = int(input(\"Enter the no of lines to read:\"))\n",
    "last_n_lines(filename, n)"
   ]
  },
  {
   "cell_type": "code",
   "execution_count": 64,
   "id": "27adedac-3e24-41dc-9b35-4fa08cd88c69",
   "metadata": {},
   "outputs": [
    {
     "name": "stdout",
     "output_type": "stream",
     "text": [
      "['Python is High-level programming language', 'It is widely used for web development', 'python1', 'python2', 'python3']\n"
     ]
    }
   ],
   "source": [
    "#reading list line by line from file\n",
    "filename = 'sample.txt'\n",
    "try:\n",
    "    with open(filename, 'r') as file:\n",
    "        lines = [line.strip() for line in file]\n",
    "        print(lines)\n",
    "except FileNotFoundError:\n",
    "    print('File not found:', filename)"
   ]
  },
  {
   "cell_type": "code",
   "execution_count": 65,
   "id": "773adfdf-0866-424c-a8a7-a6e979ac914a",
   "metadata": {},
   "outputs": [
    {
     "name": "stdout",
     "output_type": "stream",
     "text": [
      "Total number of lines: 5\n"
     ]
    }
   ],
   "source": [
    "#count no of lines in the given file\n",
    "filename = 'sample.txt'\n",
    "try:\n",
    "    with open(filename,'r') as file:\n",
    "        count = 0\n",
    "        for line in file:\n",
    "            count += 1\n",
    "        print('Total number of lines:', count)\n",
    "except FileNotFoundError:\n",
    "    print('File not found:', filename)"
   ]
  },
  {
   "cell_type": "code",
   "execution_count": 66,
   "id": "ead20b22-8644-4415-8e7d-faeb4ccf9dd5",
   "metadata": {},
   "outputs": [
    {
     "name": "stdout",
     "output_type": "stream",
     "text": [
      "41\n",
      "Python is High-level programming language\n"
     ]
    }
   ],
   "source": [
    "#lengthy words in file\n",
    "with open('sample.txt', 'r') as file:\n",
    "    max_len = 0\n",
    "    longest = ''\n",
    "    for line in file:\n",
    "        for word in line.strip().split(','):\n",
    "            word = word.strip()\n",
    "            if len(word) >= max_len:\n",
    "                max_len = len(word)\n",
    "                longest = word\n",
    "print(max_len)\n",
    "print(longest)"
   ]
  }
 ],
 "metadata": {
  "kernelspec": {
   "display_name": "Python [conda env:base] *",
   "language": "python",
   "name": "conda-base-py"
  },
  "language_info": {
   "codemirror_mode": {
    "name": "ipython",
    "version": 3
   },
   "file_extension": ".py",
   "mimetype": "text/x-python",
   "name": "python",
   "nbconvert_exporter": "python",
   "pygments_lexer": "ipython3",
   "version": "3.12.7"
  }
 },
 "nbformat": 4,
 "nbformat_minor": 5
}
